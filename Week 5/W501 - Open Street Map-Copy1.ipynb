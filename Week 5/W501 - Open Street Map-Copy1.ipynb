{
 "cells": [
  {
   "cell_type": "markdown",
   "metadata": {
    "slideshow": {
     "slide_type": "slide"
    }
   },
   "source": [
    "<div class=\"alert alert-danger\">\n",
    "\n",
    "<h1>Take notice!🎥</h1>\n",
    "<ul>\n",
    "    <li>This class will be recorded</li>\n",
    "</ul>\n",
    "    \n",
    "</div>"
   ]
  },
  {
   "cell_type": "markdown",
   "metadata": {
    "slideshow": {
     "slide_type": "slide"
    }
   },
   "source": [
    "# Open Street Map\n",
    "\n",
    "In this lab, you will learn how to:\n",
    "* use various python libraries to search for and download Open Street Map *building* data\n",
    "* categorize buildings by type\n",
    "* visualize buildings on a map\n",
    "* create a function to produce building maps\n",
    "* create a loop to produce building maps for multiple locations\n",
    "\n",
    "Note that we will learn how to use street network analysis with OSMnx in subsequent labs."
   ]
  },
  {
   "cell_type": "markdown",
   "metadata": {
    "slideshow": {
     "slide_type": "slide"
    }
   },
   "source": [
    "![osm](images/OSM.png)\n",
    "What is open street map?\n",
    "- https://www.openstreetmap.org/\n",
    "\n",
    "OSMnx\n",
    "- library documentation (https://osmnx.readthedocs.io)\n",
    "- github (https://github.com/gboeing/osmnx)\n",
    "- Examples and demos are available at: https://github.com/gboeing/osmnx-examples\n"
   ]
  },
  {
   "cell_type": "markdown",
   "metadata": {
    "slideshow": {
     "slide_type": "slide"
    }
   },
   "source": [
    "## Download visualizing Open Street Map data\n",
    "\n",
    "OSMnx lets you download data from Open Street Map.\n",
    "\n",
    "You can download OSM data by providing OSMnx any of the following:\n",
    "  - a bounding box\n",
    "  - a lat-long point plus a distance\n",
    "  - an address plus a distance\n",
    "  - a place name or list of place names (to automatically geocode and get the boundary of)\n",
    "  - a polygon of the desired street network's boundaries\n",
    "  - a .osm formatted xml file\n",
    "\n",
    "[OSMNx source](https://github.com/gboeing/osmnx/blob/99f4b1566a22f2a4dd3763190f8d0f3efa2a9b7f/osmnx/geometries.py)"
   ]
  },
  {
   "cell_type": "markdown",
   "metadata": {
    "slideshow": {
     "slide_type": "slide"
    }
   },
   "source": [
    "<div class=\"alert alert-info\">\n",
    "    \n",
    "`osmnx` uses nominatim to geocode and find places. Make sure that the geography you search for is searchable here first:\n",
    "\n",
    "https://nominatim.openstreetmap.org/ui/search.html\n",
    "\n",
    "</div>"
   ]
  },
  {
   "cell_type": "markdown",
   "metadata": {
    "slideshow": {
     "slide_type": "slide"
    }
   },
   "source": [
    "For the sake of clarity, and effective use of a workshop setting, let's use the \"address plus a distance\" method to download a street network dataset."
   ]
  },
  {
   "cell_type": "markdown",
   "metadata": {
    "slideshow": {
     "slide_type": "slide"
    }
   },
   "source": [
    "## Import the libraries"
   ]
  },
  {
   "cell_type": "code",
   "execution_count": 5,
   "metadata": {
    "ExecuteTime": {
     "end_time": "2020-10-21T06:55:52.751236Z",
     "start_time": "2020-10-21T06:55:51.028079Z"
    },
    "slideshow": {
     "slide_type": "fragment"
    }
   },
   "outputs": [],
   "source": [
    "# to download osm data\n",
    "import osmnx as ox\n",
    "\n",
    "# to manipulate data\n",
    "import pandas as pd\n",
    "\n",
    "# for interactive plots\n",
    "import plotly.express as px\n",
    "\n",
    "# to manipulate and visualize spatial data\n",
    "import geopandas as gpd\n",
    "\n",
    "# to provide basemaps \n",
    "import contextily as ctx\n",
    "\n",
    "# to give more power to your figures (plots)\n",
    "import matplotlib.pyplot as plt"
   ]
  },
  {
   "cell_type": "markdown",
   "metadata": {
    "slideshow": {
     "slide_type": "slide"
    }
   },
   "source": [
    "## Define an area of interest"
   ]
  },
  {
   "cell_type": "markdown",
   "metadata": {},
   "source": [
    "<div class=\"alert alert-info\">\n",
    "\n",
    "Search for a different city in the world other than Downtown Los Angeles. It can be where you're from, where you're living, or a place you want to travel to.\n",
    "</div>"
   ]
  },
  {
   "cell_type": "code",
   "execution_count": 6,
   "metadata": {
    "slideshow": {
     "slide_type": "fragment"
    }
   },
   "outputs": [],
   "source": [
    "address = \"1600 Amphitheatre Parkway, Mountain View, CA\""
   ]
  },
  {
   "cell_type": "code",
   "execution_count": 7,
   "metadata": {},
   "outputs": [],
   "source": [
    "import time\n",
    "time.sleep(1)  # Wait 1 second between requests\n"
   ]
  },
  {
   "cell_type": "code",
   "execution_count": 8,
   "metadata": {
    "slideshow": {
     "slide_type": "fragment"
    }
   },
   "outputs": [],
   "source": [
    "#%%time\n",
    "# %%time is a magic command to see how long it takes this cell to run \n",
    "\n",
    "# get the data from OSM that are tagged as 'building' for a 1000m X 1000m square area\n",
    "osm = ox.features.features_from_address(address,tags={'building':True},dist=1000)"
   ]
  },
  {
   "cell_type": "markdown",
   "metadata": {
    "slideshow": {
     "slide_type": "slide"
    }
   },
   "source": [
    "<div class=\"alert alert-danger\">\n",
    "    \n",
    "<h2>Be careful!</h2>\n",
    "\n",
    "Buildings are the \"heaviest\" data types to download, as they often encompass thousands of polygons. While you are technically capable of downloading buildings for entire neighborhoods and cities, doing so can easily overwhelm your notebook. Start small, and scale up!\n",
    "</div>"
   ]
  },
  {
   "cell_type": "code",
   "execution_count": 9,
   "metadata": {
    "slideshow": {
     "slide_type": "slide"
    }
   },
   "outputs": [
    {
     "data": {
      "text/plain": [
       "(774, 89)"
      ]
     },
     "execution_count": 9,
     "metadata": {},
     "output_type": "execute_result"
    }
   ],
   "source": [
    "# how many rows and columns?\n",
    "osm.shape"
   ]
  },
  {
   "cell_type": "code",
   "execution_count": 10,
   "metadata": {
    "slideshow": {
     "slide_type": "fragment"
    }
   },
   "outputs": [
    {
     "data": {
      "text/plain": [
       "geopandas.geodataframe.GeoDataFrame"
      ]
     },
     "execution_count": 10,
     "metadata": {},
     "output_type": "execute_result"
    }
   ],
   "source": [
    "# what is the datatype?\n",
    "type(osm)\n"
   ]
  },
  {
   "cell_type": "code",
   "execution_count": 11,
   "metadata": {
    "scrolled": true,
    "slideshow": {
     "slide_type": "slide"
    }
   },
   "outputs": [
    {
     "data": {
      "text/html": [
       "<div>\n",
       "<style scoped>\n",
       "    .dataframe tbody tr th:only-of-type {\n",
       "        vertical-align: middle;\n",
       "    }\n",
       "\n",
       "    .dataframe tbody tr th {\n",
       "        vertical-align: top;\n",
       "    }\n",
       "\n",
       "    .dataframe thead th {\n",
       "        text-align: right;\n",
       "    }\n",
       "</style>\n",
       "<table border=\"1\" class=\"dataframe\">\n",
       "  <thead>\n",
       "    <tr style=\"text-align: right;\">\n",
       "      <th></th>\n",
       "      <th></th>\n",
       "      <th>geometry</th>\n",
       "      <th>building</th>\n",
       "      <th>building:levels</th>\n",
       "      <th>addr:city</th>\n",
       "      <th>addr:country</th>\n",
       "      <th>addr:county</th>\n",
       "      <th>addr:housenumber</th>\n",
       "      <th>addr:postcode</th>\n",
       "      <th>addr:state</th>\n",
       "      <th>addr:street</th>\n",
       "      <th>...</th>\n",
       "      <th>payment:mastercard</th>\n",
       "      <th>payment:samsung_pay</th>\n",
       "      <th>payment:visa</th>\n",
       "      <th>access</th>\n",
       "      <th>parking</th>\n",
       "      <th>bicycle_parking</th>\n",
       "      <th>fee</th>\n",
       "      <th>golf</th>\n",
       "      <th>shelter_type</th>\n",
       "      <th>type</th>\n",
       "    </tr>\n",
       "    <tr>\n",
       "      <th>element</th>\n",
       "      <th>id</th>\n",
       "      <th></th>\n",
       "      <th></th>\n",
       "      <th></th>\n",
       "      <th></th>\n",
       "      <th></th>\n",
       "      <th></th>\n",
       "      <th></th>\n",
       "      <th></th>\n",
       "      <th></th>\n",
       "      <th></th>\n",
       "      <th></th>\n",
       "      <th></th>\n",
       "      <th></th>\n",
       "      <th></th>\n",
       "      <th></th>\n",
       "      <th></th>\n",
       "      <th></th>\n",
       "      <th></th>\n",
       "      <th></th>\n",
       "      <th></th>\n",
       "      <th></th>\n",
       "    </tr>\n",
       "  </thead>\n",
       "  <tbody>\n",
       "    <tr>\n",
       "      <th rowspan=\"10\" valign=\"top\">way</th>\n",
       "      <th>390538416</th>\n",
       "      <td>POLYGON ((-122.09329 37.41323, -122.09285 37.4...</td>\n",
       "      <td>apartments</td>\n",
       "      <td>2</td>\n",
       "      <td>NaN</td>\n",
       "      <td>NaN</td>\n",
       "      <td>NaN</td>\n",
       "      <td>768</td>\n",
       "      <td>NaN</td>\n",
       "      <td>NaN</td>\n",
       "      <td>North Rengstorff Avenue</td>\n",
       "      <td>...</td>\n",
       "      <td>NaN</td>\n",
       "      <td>NaN</td>\n",
       "      <td>NaN</td>\n",
       "      <td>NaN</td>\n",
       "      <td>NaN</td>\n",
       "      <td>NaN</td>\n",
       "      <td>NaN</td>\n",
       "      <td>NaN</td>\n",
       "      <td>NaN</td>\n",
       "      <td>NaN</td>\n",
       "    </tr>\n",
       "    <tr>\n",
       "      <th>391661408</th>\n",
       "      <td>POLYGON ((-122.09006 37.41704, -122.09005 37.4...</td>\n",
       "      <td>detached</td>\n",
       "      <td>2</td>\n",
       "      <td>NaN</td>\n",
       "      <td>NaN</td>\n",
       "      <td>NaN</td>\n",
       "      <td>888</td>\n",
       "      <td>NaN</td>\n",
       "      <td>NaN</td>\n",
       "      <td>Sierra Vista Avenue</td>\n",
       "      <td>...</td>\n",
       "      <td>NaN</td>\n",
       "      <td>NaN</td>\n",
       "      <td>NaN</td>\n",
       "      <td>NaN</td>\n",
       "      <td>NaN</td>\n",
       "      <td>NaN</td>\n",
       "      <td>NaN</td>\n",
       "      <td>NaN</td>\n",
       "      <td>NaN</td>\n",
       "      <td>NaN</td>\n",
       "    </tr>\n",
       "    <tr>\n",
       "      <th>396026089</th>\n",
       "      <td>POLYGON ((-122.09424 37.41688, -122.0942 37.41...</td>\n",
       "      <td>yes</td>\n",
       "      <td>NaN</td>\n",
       "      <td>NaN</td>\n",
       "      <td>NaN</td>\n",
       "      <td>NaN</td>\n",
       "      <td>NaN</td>\n",
       "      <td>NaN</td>\n",
       "      <td>NaN</td>\n",
       "      <td>NaN</td>\n",
       "      <td>...</td>\n",
       "      <td>NaN</td>\n",
       "      <td>NaN</td>\n",
       "      <td>NaN</td>\n",
       "      <td>NaN</td>\n",
       "      <td>NaN</td>\n",
       "      <td>NaN</td>\n",
       "      <td>NaN</td>\n",
       "      <td>NaN</td>\n",
       "      <td>NaN</td>\n",
       "      <td>NaN</td>\n",
       "    </tr>\n",
       "    <tr>\n",
       "      <th>428245870</th>\n",
       "      <td>POLYGON ((-122.08594 37.424, -122.08595 37.424...</td>\n",
       "      <td>shed</td>\n",
       "      <td>NaN</td>\n",
       "      <td>NaN</td>\n",
       "      <td>NaN</td>\n",
       "      <td>NaN</td>\n",
       "      <td>NaN</td>\n",
       "      <td>NaN</td>\n",
       "      <td>NaN</td>\n",
       "      <td>NaN</td>\n",
       "      <td>...</td>\n",
       "      <td>NaN</td>\n",
       "      <td>NaN</td>\n",
       "      <td>NaN</td>\n",
       "      <td>NaN</td>\n",
       "      <td>NaN</td>\n",
       "      <td>NaN</td>\n",
       "      <td>NaN</td>\n",
       "      <td>NaN</td>\n",
       "      <td>NaN</td>\n",
       "      <td>NaN</td>\n",
       "    </tr>\n",
       "    <tr>\n",
       "      <th>228026390</th>\n",
       "      <td>POLYGON ((-122.08842 37.4145, -122.08843 37.41...</td>\n",
       "      <td>office</td>\n",
       "      <td>1</td>\n",
       "      <td>NaN</td>\n",
       "      <td>NaN</td>\n",
       "      <td>NaN</td>\n",
       "      <td>1924</td>\n",
       "      <td>NaN</td>\n",
       "      <td>NaN</td>\n",
       "      <td>Old Middlefield Way</td>\n",
       "      <td>...</td>\n",
       "      <td>NaN</td>\n",
       "      <td>NaN</td>\n",
       "      <td>NaN</td>\n",
       "      <td>NaN</td>\n",
       "      <td>NaN</td>\n",
       "      <td>NaN</td>\n",
       "      <td>NaN</td>\n",
       "      <td>NaN</td>\n",
       "      <td>NaN</td>\n",
       "      <td>NaN</td>\n",
       "    </tr>\n",
       "    <tr>\n",
       "      <th>391659698</th>\n",
       "      <td>POLYGON ((-122.09192 37.4165, -122.09196 37.41...</td>\n",
       "      <td>yes</td>\n",
       "      <td>NaN</td>\n",
       "      <td>NaN</td>\n",
       "      <td>NaN</td>\n",
       "      <td>NaN</td>\n",
       "      <td>NaN</td>\n",
       "      <td>NaN</td>\n",
       "      <td>NaN</td>\n",
       "      <td>NaN</td>\n",
       "      <td>...</td>\n",
       "      <td>NaN</td>\n",
       "      <td>NaN</td>\n",
       "      <td>NaN</td>\n",
       "      <td>NaN</td>\n",
       "      <td>NaN</td>\n",
       "      <td>NaN</td>\n",
       "      <td>NaN</td>\n",
       "      <td>NaN</td>\n",
       "      <td>NaN</td>\n",
       "      <td>NaN</td>\n",
       "    </tr>\n",
       "    <tr>\n",
       "      <th>396016679</th>\n",
       "      <td>POLYGON ((-122.09094 37.41518, -122.09089 37.4...</td>\n",
       "      <td>yes</td>\n",
       "      <td>NaN</td>\n",
       "      <td>NaN</td>\n",
       "      <td>NaN</td>\n",
       "      <td>NaN</td>\n",
       "      <td>NaN</td>\n",
       "      <td>NaN</td>\n",
       "      <td>NaN</td>\n",
       "      <td>NaN</td>\n",
       "      <td>...</td>\n",
       "      <td>NaN</td>\n",
       "      <td>NaN</td>\n",
       "      <td>NaN</td>\n",
       "      <td>NaN</td>\n",
       "      <td>NaN</td>\n",
       "      <td>NaN</td>\n",
       "      <td>NaN</td>\n",
       "      <td>NaN</td>\n",
       "      <td>NaN</td>\n",
       "      <td>NaN</td>\n",
       "    </tr>\n",
       "    <tr>\n",
       "      <th>391657225</th>\n",
       "      <td>POLYGON ((-122.09576 37.41623, -122.09576 37.4...</td>\n",
       "      <td>yes</td>\n",
       "      <td>NaN</td>\n",
       "      <td>NaN</td>\n",
       "      <td>NaN</td>\n",
       "      <td>NaN</td>\n",
       "      <td>NaN</td>\n",
       "      <td>NaN</td>\n",
       "      <td>NaN</td>\n",
       "      <td>NaN</td>\n",
       "      <td>...</td>\n",
       "      <td>NaN</td>\n",
       "      <td>NaN</td>\n",
       "      <td>NaN</td>\n",
       "      <td>NaN</td>\n",
       "      <td>NaN</td>\n",
       "      <td>NaN</td>\n",
       "      <td>NaN</td>\n",
       "      <td>NaN</td>\n",
       "      <td>NaN</td>\n",
       "      <td>NaN</td>\n",
       "    </tr>\n",
       "    <tr>\n",
       "      <th>609011464</th>\n",
       "      <td>POLYGON ((-122.09524 37.41934, -122.09516 37.4...</td>\n",
       "      <td>yes</td>\n",
       "      <td>NaN</td>\n",
       "      <td>Mountain View</td>\n",
       "      <td>NaN</td>\n",
       "      <td>NaN</td>\n",
       "      <td>1040</td>\n",
       "      <td>94043</td>\n",
       "      <td>CA</td>\n",
       "      <td>North Rengstorff Avenue</td>\n",
       "      <td>...</td>\n",
       "      <td>NaN</td>\n",
       "      <td>NaN</td>\n",
       "      <td>NaN</td>\n",
       "      <td>NaN</td>\n",
       "      <td>NaN</td>\n",
       "      <td>NaN</td>\n",
       "      <td>NaN</td>\n",
       "      <td>NaN</td>\n",
       "      <td>NaN</td>\n",
       "      <td>NaN</td>\n",
       "    </tr>\n",
       "    <tr>\n",
       "      <th>227892859</th>\n",
       "      <td>POLYGON ((-122.08171 37.41636, -122.08166 37.4...</td>\n",
       "      <td>yes</td>\n",
       "      <td>NaN</td>\n",
       "      <td>NaN</td>\n",
       "      <td>NaN</td>\n",
       "      <td>NaN</td>\n",
       "      <td>NaN</td>\n",
       "      <td>NaN</td>\n",
       "      <td>NaN</td>\n",
       "      <td>NaN</td>\n",
       "      <td>...</td>\n",
       "      <td>NaN</td>\n",
       "      <td>NaN</td>\n",
       "      <td>NaN</td>\n",
       "      <td>NaN</td>\n",
       "      <td>NaN</td>\n",
       "      <td>NaN</td>\n",
       "      <td>NaN</td>\n",
       "      <td>NaN</td>\n",
       "      <td>NaN</td>\n",
       "      <td>NaN</td>\n",
       "    </tr>\n",
       "  </tbody>\n",
       "</table>\n",
       "<p>10 rows × 89 columns</p>\n",
       "</div>"
      ],
      "text/plain": [
       "                                                            geometry  \\\n",
       "element id                                                             \n",
       "way     390538416  POLYGON ((-122.09329 37.41323, -122.09285 37.4...   \n",
       "        391661408  POLYGON ((-122.09006 37.41704, -122.09005 37.4...   \n",
       "        396026089  POLYGON ((-122.09424 37.41688, -122.0942 37.41...   \n",
       "        428245870  POLYGON ((-122.08594 37.424, -122.08595 37.424...   \n",
       "        228026390  POLYGON ((-122.08842 37.4145, -122.08843 37.41...   \n",
       "        391659698  POLYGON ((-122.09192 37.4165, -122.09196 37.41...   \n",
       "        396016679  POLYGON ((-122.09094 37.41518, -122.09089 37.4...   \n",
       "        391657225  POLYGON ((-122.09576 37.41623, -122.09576 37.4...   \n",
       "        609011464  POLYGON ((-122.09524 37.41934, -122.09516 37.4...   \n",
       "        227892859  POLYGON ((-122.08171 37.41636, -122.08166 37.4...   \n",
       "\n",
       "                     building building:levels      addr:city addr:country  \\\n",
       "element id                                                                  \n",
       "way     390538416  apartments               2            NaN          NaN   \n",
       "        391661408    detached               2            NaN          NaN   \n",
       "        396026089         yes             NaN            NaN          NaN   \n",
       "        428245870        shed             NaN            NaN          NaN   \n",
       "        228026390      office               1            NaN          NaN   \n",
       "        391659698         yes             NaN            NaN          NaN   \n",
       "        396016679         yes             NaN            NaN          NaN   \n",
       "        391657225         yes             NaN            NaN          NaN   \n",
       "        609011464         yes             NaN  Mountain View          NaN   \n",
       "        227892859         yes             NaN            NaN          NaN   \n",
       "\n",
       "                  addr:county addr:housenumber addr:postcode addr:state  \\\n",
       "element id                                                                \n",
       "way     390538416         NaN              768           NaN        NaN   \n",
       "        391661408         NaN              888           NaN        NaN   \n",
       "        396026089         NaN              NaN           NaN        NaN   \n",
       "        428245870         NaN              NaN           NaN        NaN   \n",
       "        228026390         NaN             1924           NaN        NaN   \n",
       "        391659698         NaN              NaN           NaN        NaN   \n",
       "        396016679         NaN              NaN           NaN        NaN   \n",
       "        391657225         NaN              NaN           NaN        NaN   \n",
       "        609011464         NaN             1040         94043         CA   \n",
       "        227892859         NaN              NaN           NaN        NaN   \n",
       "\n",
       "                               addr:street  ... payment:mastercard  \\\n",
       "element id                                  ...                      \n",
       "way     390538416  North Rengstorff Avenue  ...                NaN   \n",
       "        391661408      Sierra Vista Avenue  ...                NaN   \n",
       "        396026089                      NaN  ...                NaN   \n",
       "        428245870                      NaN  ...                NaN   \n",
       "        228026390      Old Middlefield Way  ...                NaN   \n",
       "        391659698                      NaN  ...                NaN   \n",
       "        396016679                      NaN  ...                NaN   \n",
       "        391657225                      NaN  ...                NaN   \n",
       "        609011464  North Rengstorff Avenue  ...                NaN   \n",
       "        227892859                      NaN  ...                NaN   \n",
       "\n",
       "                  payment:samsung_pay payment:visa access parking  \\\n",
       "element id                                                          \n",
       "way     390538416                 NaN          NaN    NaN     NaN   \n",
       "        391661408                 NaN          NaN    NaN     NaN   \n",
       "        396026089                 NaN          NaN    NaN     NaN   \n",
       "        428245870                 NaN          NaN    NaN     NaN   \n",
       "        228026390                 NaN          NaN    NaN     NaN   \n",
       "        391659698                 NaN          NaN    NaN     NaN   \n",
       "        396016679                 NaN          NaN    NaN     NaN   \n",
       "        391657225                 NaN          NaN    NaN     NaN   \n",
       "        609011464                 NaN          NaN    NaN     NaN   \n",
       "        227892859                 NaN          NaN    NaN     NaN   \n",
       "\n",
       "                  bicycle_parking  fee golf shelter_type type  \n",
       "element id                                                     \n",
       "way     390538416             NaN  NaN  NaN          NaN  NaN  \n",
       "        391661408             NaN  NaN  NaN          NaN  NaN  \n",
       "        396026089             NaN  NaN  NaN          NaN  NaN  \n",
       "        428245870             NaN  NaN  NaN          NaN  NaN  \n",
       "        228026390             NaN  NaN  NaN          NaN  NaN  \n",
       "        391659698             NaN  NaN  NaN          NaN  NaN  \n",
       "        396016679             NaN  NaN  NaN          NaN  NaN  \n",
       "        391657225             NaN  NaN  NaN          NaN  NaN  \n",
       "        609011464             NaN  NaN  NaN          NaN  NaN  \n",
       "        227892859             NaN  NaN  NaN          NaN  NaN  \n",
       "\n",
       "[10 rows x 89 columns]"
      ]
     },
     "execution_count": 11,
     "metadata": {},
     "output_type": "execute_result"
    }
   ],
   "source": [
    "# show me 10 random rows\n",
    "osm.sample(10)"
   ]
  },
  {
   "cell_type": "markdown",
   "metadata": {
    "slideshow": {
     "slide_type": "slide"
    }
   },
   "source": [
    "## Eliminate unnecessary columns\n",
    "The dataframe has 100+ columns. Let's explore what these are, and which ones are necessary for our use."
   ]
  },
  {
   "cell_type": "markdown",
   "metadata": {
    "slideshow": {
     "slide_type": "slide"
    }
   },
   "source": [
    "What are the datatypes and count of null values?"
   ]
  },
  {
   "cell_type": "code",
   "execution_count": 12,
   "metadata": {
    "scrolled": true,
    "slideshow": {
     "slide_type": "fragment"
    }
   },
   "outputs": [
    {
     "name": "stdout",
     "output_type": "stream",
     "text": [
      "<class 'geopandas.geodataframe.GeoDataFrame'>\n",
      "MultiIndex: 774 entries, ('node', np.int64(5555373816)) to ('way', np.int64(1314088012))\n",
      "Data columns (total 89 columns):\n",
      " #   Column                        Non-Null Count  Dtype   \n",
      "---  ------                        --------------  -----   \n",
      " 0   geometry                      774 non-null    geometry\n",
      " 1   building                      774 non-null    object  \n",
      " 2   building:levels               275 non-null    object  \n",
      " 3   addr:city                     88 non-null     object  \n",
      " 4   addr:country                  3 non-null      object  \n",
      " 5   addr:county                   2 non-null      object  \n",
      " 6   addr:housenumber              262 non-null    object  \n",
      " 7   addr:postcode                 85 non-null     object  \n",
      " 8   addr:state                    84 non-null     object  \n",
      " 9   addr:street                   262 non-null    object  \n",
      " 10  air_conditioning              1 non-null      object  \n",
      " 11  alt_name                      9 non-null      object  \n",
      " 12  amenity                       27 non-null     object  \n",
      " 13  capacity                      4 non-null      object  \n",
      " 14  elev                          113 non-null    object  \n",
      " 15  height                        108 non-null    object  \n",
      " 16  layer                         41 non-null     object  \n",
      " 17  lit                           1 non-null      object  \n",
      " 18  min_height                    1 non-null      object  \n",
      " 19  name                          99 non-null     object  \n",
      " 20  operator                      11 non-null     object  \n",
      " 21  phone                         22 non-null     object  \n",
      " 22  roof:height                   3 non-null      object  \n",
      " 23  start_date                    2 non-null      object  \n",
      " 24  theatre:type                  1 non-null      object  \n",
      " 25  toilets:wheelchair            1 non-null      object  \n",
      " 26  website                       25 non-null     object  \n",
      " 27  wheelchair                    6 non-null      object  \n",
      " 28  wikidata                      4 non-null      object  \n",
      " 29  wikipedia                     2 non-null      object  \n",
      " 30  smoking                       7 non-null      object  \n",
      " 31  source                        4 non-null      object  \n",
      " 32  building:part                 3 non-null      object  \n",
      " 33  architect                     4 non-null      object  \n",
      " 34  description                   6 non-null      object  \n",
      " 35  old_name                      8 non-null      object  \n",
      " 36  bridge                        5 non-null      object  \n",
      " 37  building:min_level            6 non-null      object  \n",
      " 38  roof:shape                    5 non-null      object  \n",
      " 39  brand                         8 non-null      object  \n",
      " 40  brand:wikidata                7 non-null      object  \n",
      " 41  check_date                    14 non-null     object  \n",
      " 42  opening_hours                 18 non-null     object  \n",
      " 43  ref                           8 non-null      object  \n",
      " 44  shop                          7 non-null      object  \n",
      " 45  disused:shop                  2 non-null      object  \n",
      " 46  internet_access               2 non-null      object  \n",
      " 47  payment:american_express      1 non-null      object  \n",
      " 48  tourism                       2 non-null      object  \n",
      " 49  cuisine                       6 non-null      object  \n",
      " 50  drive_through                 3 non-null      object  \n",
      " 51  roof:levels                   5 non-null      object  \n",
      " 52  takeaway                      3 non-null      object  \n",
      " 53  building:use                  1 non-null      object  \n",
      " 54  delivery                      1 non-null      object  \n",
      " 55  indoor_seating                1 non-null      object  \n",
      " 56  outdoor_seating               1 non-null      object  \n",
      " 57  store_number                  1 non-null      object  \n",
      " 58  office                        12 non-null     object  \n",
      " 59  operator:wikidata             1 non-null      object  \n",
      " 60  addr:housename                6 non-null      object  \n",
      " 61  addr:unit                     37 non-null     object  \n",
      " 62  short_name                    2 non-null      object  \n",
      " 63  generator:method              12 non-null     object  \n",
      " 64  generator:output:electricity  12 non-null     object  \n",
      " 65  generator:source              12 non-null     object  \n",
      " 66  generator:type                12 non-null     object  \n",
      " 67  power                         12 non-null     object  \n",
      " 68  note                          4 non-null      object  \n",
      " 69  laboratory                    1 non-null      object  \n",
      " 70  man_made                      3 non-null      object  \n",
      " 71  covered                       2 non-null      object  \n",
      " 72  theatre                       1 non-null      object  \n",
      " 73  material                      1 non-null      object  \n",
      " 74  branch                        1 non-null      object  \n",
      " 75  check_date:opening_hours      1 non-null      object  \n",
      " 76  contact:facebook              1 non-null      object  \n",
      " 77  disused:craft                 1 non-null      object  \n",
      " 78  healthcare                    3 non-null      object  \n",
      " 79  payment:mastercard            1 non-null      object  \n",
      " 80  payment:samsung_pay           1 non-null      object  \n",
      " 81  payment:visa                  1 non-null      object  \n",
      " 82  access                        2 non-null      object  \n",
      " 83  parking                       2 non-null      object  \n",
      " 84  bicycle_parking               1 non-null      object  \n",
      " 85  fee                           1 non-null      object  \n",
      " 86  golf                          1 non-null      object  \n",
      " 87  shelter_type                  8 non-null      object  \n",
      " 88  type                          1 non-null      object  \n",
      "dtypes: geometry(1), object(88)\n",
      "memory usage: 562.9+ KB\n"
     ]
    }
   ],
   "source": [
    "osm.info(verbose=True, show_counts=True)"
   ]
  },
  {
   "cell_type": "markdown",
   "metadata": {
    "slideshow": {
     "slide_type": "slide"
    }
   },
   "source": [
    "Really, what we need is just..."
   ]
  },
  {
   "cell_type": "code",
   "execution_count": null,
   "metadata": {
    "slideshow": {
     "slide_type": "fragment"
    }
   },
   "outputs": [],
   "source": [
    "## subset it\n",
    "columns_to_keep = ['geometry','building','height']\n",
    "osm = osm[columns_to_keep]\n",
    "osm.head(10)"
   ]
  },
  {
   "cell_type": "markdown",
   "metadata": {
    "slideshow": {
     "slide_type": "slide"
    }
   },
   "source": [
    "### Cleaning up unspecified building types"
   ]
  },
  {
   "cell_type": "markdown",
   "metadata": {},
   "source": [
    "Wait, what is the \"yes\" building type? According to OSM's wiki page, this is a building of \"[unspecific type](https://wiki.openstreetmap.org/wiki/Tag:building%3Dyes)\", used when someone is unable or unwilling to tag it more specifically.\n",
    "\n",
    "With this in mind, let's change \"yes\" to \"unspecified\". To do so, we will use the `.loc` function as documented [here](https://www.geeksforgeeks.org/how-to-replace-values-in-column-based-on-condition-in-pandas/)"
   ]
  },
  {
   "cell_type": "code",
   "execution_count": null,
   "metadata": {
    "slideshow": {
     "slide_type": "fragment"
    }
   },
   "outputs": [],
   "source": [
    "# locate cells in column building where value is yes\n",
    "osm.loc[osm['building']=='yes','building'] = 'unspecified'"
   ]
  },
  {
   "cell_type": "markdown",
   "metadata": {
    "slideshow": {
     "slide_type": "slide"
    }
   },
   "source": [
    "# Make a building type chart\n",
    "\n",
    "Let's create a dataframe for building types. We can do this with a nifty series of chained code functions in a single line."
   ]
  },
  {
   "cell_type": "code",
   "execution_count": null,
   "metadata": {},
   "outputs": [],
   "source": [
    "# get the counts of buildings by building type\n",
    "osm_building_counts = osm.value_counts(['building']).reset_index(name=\"count\")\n",
    "osm_building_counts"
   ]
  },
  {
   "cell_type": "markdown",
   "metadata": {
    "slideshow": {
     "slide_type": "slide"
    }
   },
   "source": [
    "## Create a bar chart\n",
    "\n",
    "To start, the simplest method to create a bar plot in python is to simply add `plot.bar` to the dataframe."
   ]
  },
  {
   "cell_type": "code",
   "execution_count": null,
   "metadata": {
    "slideshow": {
     "slide_type": "fragment"
    }
   },
   "outputs": [],
   "source": [
    "# create bar chart with osm buildings where x axis is building count\n",
    "osm_building_counts.plot.bar(x='building');"
   ]
  },
  {
   "cell_type": "markdown",
   "metadata": {
    "slideshow": {
     "slide_type": "slide"
    }
   },
   "source": [
    "Now output it again, but this time, only show the \"Top 10.\"\n",
    "\n",
    "Take the extra mile to make it pretty!"
   ]
  },
  {
   "cell_type": "code",
   "execution_count": null,
   "metadata": {
    "slideshow": {
     "slide_type": "fragment"
    }
   },
   "outputs": [],
   "source": [
    "# create matplotlib bar chart with detailed title and x and y axis labels\n",
    "\n",
    "# create empty figure and axex where dataframe will be plotted\n",
    "fig, ax = plt.subplots(figsize=(12,4))\n",
    "\n",
    "# plot top ten building types with counts \n",
    "osm_building_counts[:10].plot.bar(ax=ax,\n",
    "                                      x='building',\n",
    "                                      y='count',\n",
    "                                      legend=False,\n",
    "                                      color='dodgerblue'\n",
    "                                      )\n",
    "\n",
    "ax.set_xlabel('Building Type') # override x label\n",
    "ax.set_ylabel('Number of buildings') # override y label\n",
    "ax.set_title(\"Top 10 building types\\n\"+address,fontsize=14,pad=10); # multi-line title with padding"
   ]
  },
  {
   "cell_type": "markdown",
   "metadata": {
    "slideshow": {
     "slide_type": "slide"
    }
   },
   "source": [
    "### Going the extra \"extra\" mile\n",
    "\n",
    "The chart that was just created uses Matplotlib, which has long been a standard in Python libraries. \n",
    "\n",
    "Here we introduce [plotly](https://plotly.com/python/bar-charts/) as the charting library, which comes with preconfigured thematic \"[templates](https://plotly.com/python/templates/)\" that allow us to generate various charts with differing design principles.\n",
    "\n",
    "In the code cell below, you can replace \"plotly_white\" with any of the following values to experiment with different designs for your charts.\n",
    "\n",
    "Choose from:\n",
    "- `ggplot2`\n",
    "- `seaborn`\n",
    "- `simple_white`\n",
    "- `plotly`,\n",
    "- `plotly_white`\n",
    "- `plotly_dark`\n",
    "- `presentation`\n",
    "- `xgridoff`,\n",
    "- `ygridoff`\n",
    "- `gridon`\n",
    "- `none`"
   ]
  },
  {
   "cell_type": "code",
   "execution_count": null,
   "metadata": {
    "slideshow": {
     "slide_type": "slide"
    }
   },
   "outputs": [],
   "source": [
    "# import the themes\n",
    "import plotly.io as pio\n",
    "\n",
    "# import the themes\n",
    "import plotly.io as pio\n",
    "\n",
    "# list the templates available\n",
    "pio.templates"
   ]
  },
  {
   "cell_type": "code",
   "execution_count": null,
   "metadata": {},
   "outputs": [],
   "source": [
    "# set default template to plotly_white\n",
    "pio.templates.default = \"plotly_white\""
   ]
  },
  {
   "cell_type": "code",
   "execution_count": null,
   "metadata": {
    "slideshow": {
     "slide_type": "slide"
    }
   },
   "outputs": [],
   "source": [
    "# bar chart\n",
    "fig = px.bar(osm_building_counts.head(10),\n",
    "        x='building',\n",
    "        y='count',\n",
    "        title=\"Top 10 building types in \"+address, # title\n",
    "        text_auto = True,\n",
    "        height=600,\n",
    "        width=900,\n",
    "        color_discrete_sequence =['slategray']*len(osm_building_counts), # single color for all the bars\n",
    "        labels={\n",
    "                'count': 'Number of buildngs',\n",
    "                'building': 'Type of building',\n",
    "        })\n",
    "\n",
    "# bar label\n",
    "fig.update_traces(textposition='outside',textfont_size=10,textfont_color='#444')\n",
    "\n",
    "# axes labels\n",
    "fig.update_yaxes(title_font_size=12,title_font_color='#aaa',tickfont_color='#aaa',tickfont_size=9)\n",
    "fig.update_xaxes(title_font_size=10,title_font_color='#aaa',tickfont_color='#aaa',tickfont_size=9)\n",
    "\n",
    "# show the figure\n",
    "fig.show()"
   ]
  },
  {
   "cell_type": "markdown",
   "metadata": {
    "slideshow": {
     "slide_type": "slide"
    }
   },
   "source": [
    "<div class=\"alert alert-info\">\n",
    "\n",
    "Now it's your turn! With your area of interest, anywhere in the world, create a bar plot of building types.\n",
    "    \n",
    "Take a screengrab or save the resulting image using ```plt.savefig('city-name.png')```, and paste it into this <a href=\"https://docs.google.com/document/d/1cySh-_fXGkniGJXrztM-ZNtDETmTYunWp4ZbMCOEJ2s/edit?usp=sharing\" target=\"_blank\">Google Document</a>.\n",
    "</div>"
   ]
  },
  {
   "cell_type": "markdown",
   "metadata": {
    "slideshow": {
     "slide_type": "slide"
    }
   },
   "source": [
    "# Geopandas Map Plots\n",
    "\n",
    "Let's return to the original OSM data we downloaded. Remember that the OSMnx `geometries_from_address` command returned a geodataframe of buildings. Let's plot them:"
   ]
  },
  {
   "cell_type": "code",
   "execution_count": null,
   "metadata": {
    "slideshow": {
     "slide_type": "slide"
    }
   },
   "outputs": [],
   "source": [
    "# plot entire dataset\n",
    "osm.plot(figsize=(10,10))"
   ]
  },
  {
   "cell_type": "code",
   "execution_count": null,
   "metadata": {
    "slideshow": {
     "slide_type": "slide"
    }
   },
   "outputs": [],
   "source": [
    "# plot a single random building\n",
    "osm.sample(1).plot()"
   ]
  },
  {
   "cell_type": "markdown",
   "metadata": {
    "slideshow": {
     "slide_type": "slide"
    }
   },
   "source": [
    "## Color coding buildings\n",
    "Use the `column` argument to assign a column in the dataframe to color the polygons. If the column is numerical, it will poduce a numerically sequential map. If the column is categorical, it will produce a categorically colored map (a different color assigned to each distinct category).\n",
    "\n",
    "You can use the `cmap` argument to assign a color palette. Find all the available options for `cmap` here:\n",
    "- https://matplotlib.org/3.1.1/gallery/color/colormap_reference.html"
   ]
  },
  {
   "cell_type": "code",
   "execution_count": null,
   "metadata": {
    "slideshow": {
     "slide_type": "slide"
    }
   },
   "outputs": [],
   "source": [
    "osm.plot(figsize=(10,10),\n",
    "         column='building',\n",
    "         cmap='tab20',\n",
    "         legend=True)"
   ]
  },
  {
   "cell_type": "markdown",
   "metadata": {
    "slideshow": {
     "slide_type": "slide"
    }
   },
   "source": [
    "## Clean up: Add a title, move the legend, remove axis\n",
    "\n",
    "### Move the legend\n",
    "\n",
    "Moving the legend is surprisingly difficult to do. There are two key/value pairs that you need to pass using the `legend_kwds` argument. The `loc` and `bbox_to_anchor` values allow you to locate the legend outside the plot. Here is a good explanation of how that is done:\n",
    "\n",
    "* https://stackoverflow.com/questions/4700614/how-to-put-the-legend-out-of-the-plot/43439132#43439132\n",
    "\n",
    "### Add a title\n",
    "Use `ax.set_title()` to add a title to the chart.\n",
    "\n",
    "### Remove the axis\n",
    "\n",
    "Turn off the axis with the `ax.axis('off')` statement.\n",
    "\n"
   ]
  },
  {
   "cell_type": "code",
   "execution_count": null,
   "metadata": {
    "slideshow": {
     "slide_type": "slide"
    }
   },
   "outputs": [],
   "source": [
    "fig, ax = plt.subplots(figsize=(10,10))\n",
    "\n",
    "# create the map plot\n",
    "osm.plot(ax=ax,\n",
    "         column='building',\n",
    "         cmap='tab20',\n",
    "         legend=True,\n",
    "         legend_kwds={'loc':'upper left','bbox_to_anchor':(1,.9)})\n",
    "\n",
    "# add a title\n",
    "ax.set_title('Building types in ' + address)\n",
    "\n",
    "# get rid of the axis\n",
    "ax.axis('off');"
   ]
  },
  {
   "cell_type": "markdown",
   "metadata": {
    "slideshow": {
     "slide_type": "slide"
    }
   },
   "source": [
    "### Taking it to the next level\n",
    "\n",
    "Choropleth maps are created, and left to be... as-is. Ask yourself, will your audience be able to get the most out of your graphic? In fact, choropleth maps are all too often seen as a means to an end, when in fact, they are perhaps the biggest cartographic overuse. Instead, solicit your audience through the use of binary maps, which allow the eyes to more easily detect patterns, convey visual information with greater clarity, and are frankly,  aesthically engaging.\n",
    "\n",
    "Consider that your graph is a two-dimensional map of an urban space that shows the relationship between what something is and what it is not, built and unbuilt spaces. Using a solid black infill for certain spaces and a light gray color for other spaces mimics a historically popular design approach known as the figure-ground diagram, popularized by urban artists from the 17th century. Consider the specter of Giambattista Nolli's plan of Rome in 1748:\n",
    "\n",
    "<img src=\"images/Nolli 1748.jpeg\">"
   ]
  },
  {
   "cell_type": "markdown",
   "metadata": {
    "slideshow": {
     "slide_type": "slide"
    }
   },
   "source": [
    "In more modern times, figure-ground diagrams have been used to depict urban morphology, the study of the formation of human habitats and their transformation of urban form over time. Modern urbanists such as Geoff Boeing (author of the OSMNX library used in this session) have coined the term \"data-driven urban morphology\" by combining big data and computation to explore urban spaces through the modeling of spatial data. The sudden and open availability of OSM data for locations all over the world have enabled practitioners to visualize urban phenomena across cities.\n",
    "\n",
    "<img src=\"images/urban morphology.jpg\" width=600>\n",
    "\n",
    "Image from \"[Spatial information and the legibility of urban form: Big data in urban morphology](ttps://www.sciencedirect.com/science/article/pii/S0268401219302154),\" Geoff Boeing, 2021. One square mile of each city’s street network and building footprints, comparing US cities to informal settlements in the Global South."
   ]
  },
  {
   "cell_type": "markdown",
   "metadata": {
    "slideshow": {
     "slide_type": "slide"
    }
   },
   "source": [
    "With just a few weeks under our belts as spatial data scientists, do we dare presume to generate similar graphics of interest? Let's give it a shot.\n",
    "\n",
    "Goal: To create a series of maps, with each map highlighting a single building type as a figure-ground diagram."
   ]
  },
  {
   "cell_type": "markdown",
   "metadata": {
    "slideshow": {
     "slide_type": "slide"
    }
   },
   "source": [
    "### Step 1: Calculate the map bounds of your data\n",
    "\n",
    "In order to make sure that each map has the same extent (bounds), assign the min/max x/y's using the `total_bounds` function ([documentation](https://geopandas.org/en/stable/docs/reference/api/geopandas.GeoSeries.total_bounds.html))."
   ]
  },
  {
   "cell_type": "code",
   "execution_count": null,
   "metadata": {
    "slideshow": {
     "slide_type": "fragment"
    }
   },
   "outputs": [],
   "source": [
    "# get min/max bounds of lat/lon\n",
    "minx = osm.total_bounds[0]\n",
    "miny = osm.total_bounds[1]\n",
    "maxx = osm.total_bounds[2]\n",
    "maxy = osm.total_bounds[3]"
   ]
  },
  {
   "cell_type": "markdown",
   "metadata": {
    "slideshow": {
     "slide_type": "slide"
    }
   },
   "source": [
    "### Step 2: Create a building type list\n",
    "\n",
    "Use the `unique()` function to find distinct building types, and put it in a python list."
   ]
  },
  {
   "cell_type": "code",
   "execution_count": null,
   "metadata": {},
   "outputs": [],
   "source": [
    "# get unique buiding types in a list\n",
    "buildingtypes = osm['building'].unique().tolist()\n",
    "buildingtypes"
   ]
  },
  {
   "cell_type": "markdown",
   "metadata": {
    "slideshow": {
     "slide_type": "slide"
    }
   },
   "source": [
    "### Step 3: Create a loop for each buidling type\n",
    "\n",
    "Now that we have the list of building types, we can loop through each building type and create individual maps. \n",
    "\n",
    "**Beware** Loops are super powerful operations in any programming language. Make sure that what you ask is *reasonable* to the computational resources available."
   ]
  },
  {
   "cell_type": "code",
   "execution_count": null,
   "metadata": {
    "slideshow": {
     "slide_type": "slide"
    }
   },
   "outputs": [],
   "source": [
    "# loop through building types\n",
    "for type in buildingtypes:\n",
    "    fig, ax = plt.subplots(figsize=(4,4))\n",
    "\n",
    "    # create the map plot\n",
    "    osm.plot(ax=ax,\n",
    "            # column='building',\n",
    "            color='#eee')\n",
    "\n",
    "    # create the map plot\n",
    "    osm[osm['building'] == type].plot(ax=ax,\n",
    "            # column='building',\n",
    "            color='black')\n",
    "\n",
    "    # set the extent of the map \n",
    "    # so that each map has the same bounds\n",
    "    ax.set_xlim((minx,maxx))\n",
    "    ax.set_ylim((miny,maxy))\n",
    "\n",
    "    # add a title\n",
    "    number_of_buildings = len(osm[osm['building']==type])\n",
    "    ax.set_title(str(number_of_buildings) + ' ' + type + ' buildings')\n",
    "\n",
    "    # get rid of the axis\n",
    "    ax.axis('off');\n"
   ]
  },
  {
   "cell_type": "markdown",
   "metadata": {
    "slideshow": {
     "slide_type": "slide"
    }
   },
   "source": [
    "## Add a basemap\n",
    "\n",
    "Adding a basemap to a geopandas plot can be done using the contextily library. To do so, you must:\n",
    "\n",
    "* reproject your geodataframe to Web Mercator (epsg: 3857)\n",
    "* add a basemap, use the following guidelines: https://github.com/geopandas/contextily"
   ]
  },
  {
   "cell_type": "code",
   "execution_count": null,
   "metadata": {
    "slideshow": {
     "slide_type": "fragment"
    }
   },
   "outputs": [],
   "source": [
    "# reproject to Web Mercator\n",
    "osm_web_mercator = osm.to_crs(epsg=3857)"
   ]
  },
  {
   "cell_type": "code",
   "execution_count": null,
   "metadata": {
    "slideshow": {
     "slide_type": "slide"
    }
   },
   "outputs": [],
   "source": [
    "fig,ax = plt.subplots(figsize=(10,10))\n",
    "\n",
    "osm_web_mercator.plot(ax=ax,\n",
    "                    color=\"black\",\n",
    "                    alpha=0.8,\n",
    "                    )\n",
    "\n",
    "# get rid of the axis\n",
    "ax.axis('off');\n",
    "\n",
    "# basemap from carto that has a dark background (easier to see)\n",
    "ctx.add_basemap(ax=ax,\n",
    "                source=ctx.providers.CartoDB.Positron,\n",
    "                alpha=0.3 # add transparency to make it less dominant\n",
    "                )"
   ]
  },
  {
   "cell_type": "markdown",
   "metadata": {},
   "source": [
    "<div class=\"alert alert-info\">\n",
    "\n",
    "Create a map plot of building types for your place of interest.\n",
    "    \n",
    "Take a screengrab or save the resulting image with ```plt.savefig('city-name.png')```, and paste it into this <a href=\"https://docs.google.com/document/d/1cySh-_fXGkniGJXrztM-ZNtDETmTYunWp4ZbMCOEJ2s/edit?usp=sharing\" target=\"_blank\">Google Document</a>.\n",
    "</div>"
   ]
  },
  {
   "cell_type": "markdown",
   "metadata": {
    "slideshow": {
     "slide_type": "slide"
    }
   },
   "source": [
    "# Create a function\n",
    "\n",
    "Whew! That was a lot of work to finally get our building map for a given location. But what if you wanted to repeat this process for *multiple* locations?\n",
    "\n",
    "Welcome to the world of functions. According to [W3Schools](https://www.w3schools.com/python/python_functions.asp), a python function is:\n",
    "* A function is a block of code which only runs when it is called.\n",
    "* You can pass data, known as parameters, into a function.\n",
    "* A function can return data as a result.\n",
    "\n",
    "In other words, you create a function (a block of code that does something), and it remains dormant until you call on it. For this lab, let's create a function that creates a building map based on location data that you pass into it."
   ]
  },
  {
   "cell_type": "code",
   "execution_count": null,
   "metadata": {
    "slideshow": {
     "slide_type": "slide"
    }
   },
   "outputs": [],
   "source": [
    "# let's make this function together\n",
    "def your_name():    \n",
    "    print('My name is Ren')"
   ]
  },
  {
   "cell_type": "code",
   "execution_count": 18,
   "metadata": {},
   "outputs": [],
   "source": [
    "names  = ['nick','jo', 'gabe']\n",
    "def computer():\n",
    "    for number in numbers: \n",
    "        print(numbers)"
   ]
  },
  {
   "cell_type": "code",
   "execution_count": 19,
   "metadata": {},
   "outputs": [
    {
     "name": "stdout",
     "output_type": "stream",
     "text": [
      "[1, 2, 3, 4, 5, 6, 7, 8, 9]\n",
      "[1, 2, 3, 4, 5, 6, 7, 8, 9]\n",
      "[1, 2, 3, 4, 5, 6, 7, 8, 9]\n",
      "[1, 2, 3, 4, 5, 6, 7, 8, 9]\n",
      "[1, 2, 3, 4, 5, 6, 7, 8, 9]\n",
      "[1, 2, 3, 4, 5, 6, 7, 8, 9]\n",
      "[1, 2, 3, 4, 5, 6, 7, 8, 9]\n",
      "[1, 2, 3, 4, 5, 6, 7, 8, 9]\n",
      "[1, 2, 3, 4, 5, 6, 7, 8, 9]\n"
     ]
    }
   ],
   "source": [
    "computer()"
   ]
  },
  {
   "cell_type": "code",
   "execution_count": 15,
   "metadata": {},
   "outputs": [],
   "source": [
    "def greeting():\n",
    "    print('whats good')"
   ]
  },
  {
   "cell_type": "code",
   "execution_count": 16,
   "metadata": {},
   "outputs": [
    {
     "name": "stdout",
     "output_type": "stream",
     "text": [
      "whats good\n"
     ]
    }
   ],
   "source": [
    "greeting()"
   ]
  },
  {
   "cell_type": "code",
   "execution_count": null,
   "metadata": {
    "slideshow": {
     "slide_type": "fragment"
    }
   },
   "outputs": [],
   "source": [
    "# call it\n",
    "your_name()"
   ]
  },
  {
   "cell_type": "code",
   "execution_count": null,
   "metadata": {
    "slideshow": {
     "slide_type": "slide"
    }
   },
   "outputs": [],
   "source": [
    "# modify the function to accept arguments\n",
    "def your_name(name):\n",
    "    print('My name is ' + name)"
   ]
  },
  {
   "cell_type": "code",
   "execution_count": null,
   "metadata": {
    "slideshow": {
     "slide_type": "fragment"
    }
   },
   "outputs": [],
   "source": [
    "# call it\n",
    "your_name()"
   ]
  },
  {
   "cell_type": "code",
   "execution_count": null,
   "metadata": {
    "slideshow": {
     "slide_type": "fragment"
    }
   },
   "outputs": [],
   "source": [
    "# call it correctly\n",
    "your_name('Carolyn')\n",
    "\n",
    "# or (does the same thing)\n",
    "your_name(name='Carolyn')"
   ]
  },
  {
   "cell_type": "code",
   "execution_count": null,
   "metadata": {
    "slideshow": {
     "slide_type": "slide"
    }
   },
   "outputs": [],
   "source": [
    "# add additional parameters\n",
    "def your_name(firstname, lastname):\n",
    "    print('My name is ' + firstname + ' ' + lastname)"
   ]
  },
  {
   "cell_type": "code",
   "execution_count": null,
   "metadata": {
    "slideshow": {
     "slide_type": "fragment"
    }
   },
   "outputs": [],
   "source": [
    "your_name('Erik','Felix')"
   ]
  },
  {
   "cell_type": "code",
   "execution_count": null,
   "metadata": {
    "slideshow": {
     "slide_type": "slide"
    }
   },
   "outputs": [],
   "source": [
    "# provide default values\n",
    "def your_name(firstname = 'Michael', lastname = 'Jordan'):\n",
    "    print('My name is ' + firstname + ' ' + lastname)"
   ]
  },
  {
   "cell_type": "code",
   "execution_count": null,
   "metadata": {
    "slideshow": {
     "slide_type": "fragment"
    }
   },
   "outputs": [],
   "source": [
    "# call it with no arguments\n",
    "your_name()"
   ]
  },
  {
   "cell_type": "code",
   "execution_count": null,
   "metadata": {
    "slideshow": {
     "slide_type": "fragment"
    }
   },
   "outputs": [],
   "source": [
    "# call it with one argument\n",
    "your_name(firstname = 'Emma')"
   ]
  },
  {
   "cell_type": "code",
   "execution_count": null,
   "metadata": {
    "slideshow": {
     "slide_type": "slide"
    }
   },
   "outputs": [],
   "source": [
    "# you can also do computations\n",
    "def f_to_c(f):\n",
    "    c = (f-32)*5/9 \n",
    "    return c"
   ]
  },
  {
   "cell_type": "code",
   "execution_count": null,
   "metadata": {
    "slideshow": {
     "slide_type": "fragment"
    }
   },
   "outputs": [],
   "source": [
    "f_to_c(80)"
   ]
  },
  {
   "cell_type": "markdown",
   "metadata": {
    "slideshow": {
     "slide_type": "slide"
    }
   },
   "source": [
    "## Create a function that generates a map based on any location"
   ]
  },
  {
   "cell_type": "markdown",
   "metadata": {
    "slideshow": {
     "slide_type": "slide"
    }
   },
   "source": [
    "### The anatomy of the function\n",
    "\n",
    "<img src=\"images/function.png\">"
   ]
  },
  {
   "cell_type": "code",
   "execution_count": null,
   "metadata": {
    "slideshow": {
     "slide_type": "slide"
    }
   },
   "outputs": [],
   "source": [
    "# function to create a map using open street map\n",
    "def make_building_map(location):\n",
    " \n",
    "    # get the data from osm\n",
    "    osm = ox.features.features_from_address(location,\n",
    "                                     tags={'building':True},\n",
    "                                     dist=500)\n",
    "    \n",
    "    # create the figure as a subplot\n",
    "    fig,ax = plt.subplots(figsize=(6,6))\n",
    "    \n",
    "    # add the map\n",
    "    osm.plot(ax=ax,\n",
    "                        color=\"black\",\n",
    "                        alpha=0.8,\n",
    "                        )\n",
    "\n",
    "    # add a title\n",
    "    ax.set_title(location)\n",
    "\n",
    "    # get rid of the axis\n",
    "    ax.axis('off')    "
   ]
  },
  {
   "cell_type": "code",
   "execution_count": null,
   "metadata": {
    "slideshow": {
     "slide_type": "slide"
    }
   },
   "outputs": [],
   "source": [
    "%%time \n",
    "# a \"magic\" function to display the time it took to run this cell\n",
    "# run the function once\n",
    "make_building_map('rome')"
   ]
  },
  {
   "cell_type": "markdown",
   "metadata": {
    "slideshow": {
     "slide_type": "slide"
    }
   },
   "source": [
    "# Looping through it\n",
    "\n",
    "To make the use of functions even more effective, let's create a list of addresses."
   ]
  },
  {
   "cell_type": "code",
   "execution_count": null,
   "metadata": {
    "slideshow": {
     "slide_type": "fragment"
    }
   },
   "outputs": [],
   "source": [
    "address_list = ['downtown los angeles','new york','kyoto','monrovia','paris','new delhi']"
   ]
  },
  {
   "cell_type": "code",
   "execution_count": null,
   "metadata": {
    "slideshow": {
     "slide_type": "slide"
    }
   },
   "outputs": [],
   "source": [
    "%%time\n",
    "# run our function for every address in our list\n",
    "for address in address_list:\n",
    "    make_building_map(address)"
   ]
  },
  {
   "cell_type": "markdown",
   "metadata": {
    "slideshow": {
     "slide_type": "slide"
    }
   },
   "source": [
    "# Doing other searches\n",
    "\n",
    "For this lab, we used the tags argument: `'building':True`. This indicates a desire to download *all* buildings for the given geography. There are many other options to filter what you download from OSM. \n",
    "\n",
    "* https://wiki.openstreetmap.org/wiki/Map_Features\n",
    "\n",
    "Examples calls to intake features from OSM:\n",
    "\n",
    "```python\n",
    "# for all buildings (could be a very large query)\n",
    "features = ox.geometries_from_address(place, tags={'building': True})\n",
    "\n",
    "# for specific buildings\n",
    "features = ox.geometries_from_address(place, tags={'building': ['retail','industrial','commercial']})\n",
    "\n",
    "# for amenities\n",
    "features = ox.geometries_from_address(place, tags={'amenity': ['restaurant','fast_food']})\n",
    "\n",
    "# for leisure spaces\n",
    "features = ox.geometries_from_address(place, tags={'leisure': ['park']})\n",
    "```\n",
    "\n",
    "Note that when you perform a different search based on a different type of tag, **you may not get the same columns back**. You will need to adjust the code in this lab to reflect the columns that are returned. For example, a tag for \"leisure\" may not return \"buildings\", and instead, you may want to color code the map by the column \"leisure.\""
   ]
  }
 ],
 "metadata": {
  "celltoolbar": "Slideshow",
  "kernelspec": {
   "display_name": "Python 3 (ipykernel)",
   "language": "python",
   "name": "python3"
  },
  "language_info": {
   "codemirror_mode": {
    "name": "ipython",
    "version": 3
   },
   "file_extension": ".py",
   "mimetype": "text/x-python",
   "name": "python",
   "nbconvert_exporter": "python",
   "pygments_lexer": "ipython3",
   "version": "3.11.9"
  },
  "toc": {
   "base_numbering": 1,
   "nav_menu": {},
   "number_sections": true,
   "sideBar": true,
   "skip_h1_title": false,
   "title_cell": "Table of Contents",
   "title_sidebar": "Contents",
   "toc_cell": true,
   "toc_position": {
    "height": "calc(100% - 180px)",
    "left": "10px",
    "top": "150px",
    "width": "383.969px"
   },
   "toc_section_display": true,
   "toc_window_display": false
  },
  "vscode": {
   "interpreter": {
    "hash": "a6f97620323956135125d97ca3cfa81b2e752106e2996f191eab2ef4078f4063"
   }
  }
 },
 "nbformat": 4,
 "nbformat_minor": 4
}
